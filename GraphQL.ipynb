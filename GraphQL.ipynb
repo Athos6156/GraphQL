{
 "cells": [
  {
   "cell_type": "code",
   "execution_count": 2,
   "id": "3d8f8c44",
   "metadata": {
    "scrolled": false
   },
   "outputs": [
    {
     "name": "stdout",
     "output_type": "stream",
     "text": [
      "Collecting graphene\n",
      "  Using cached graphene-3.3-py2.py3-none-any.whl (128 kB)\n",
      "Collecting graphql-core<3.3,>=3.1\n",
      "  Using cached graphql_core-3.2.3-py3-none-any.whl (202 kB)\n",
      "Collecting aniso8601<10,>=8\n",
      "  Using cached aniso8601-9.0.1-py2.py3-none-any.whl (52 kB)\n",
      "Collecting graphql-relay<3.3,>=3.1\n",
      "  Using cached graphql_relay-3.2.0-py3-none-any.whl (16 kB)\n",
      "Installing collected packages: graphql-core, graphql-relay, aniso8601, graphene\n",
      "Successfully installed aniso8601-9.0.1 graphene-3.3 graphql-core-3.2.3 graphql-relay-3.2.0\n",
      "Note: you may need to restart the kernel to use updated packages.\n"
     ]
    }
   ],
   "source": [
    "pip install graphene"
   ]
  },
  {
   "cell_type": "code",
   "execution_count": 5,
   "id": "43bfb208",
   "metadata": {},
   "outputs": [],
   "source": [
    "from sqlalchemy import create_engine, Column, Integer, String, ForeignKey\n",
    "from sqlalchemy.ext.declarative import declarative_base\n",
    "from sqlalchemy.orm import sessionmaker, relationship\n",
    "import graphene\n",
    "from graphene import ObjectType, String, Int, Float, List, Field, DateTime"
   ]
  },
  {
   "cell_type": "code",
   "execution_count": 1,
   "id": "ab71e433",
   "metadata": {},
   "outputs": [],
   "source": [
    "from sqlalchemy import create_engine, Column, Integer, String, ForeignKey, Float, DateTime\n",
    "from sqlalchemy.ext.declarative import declarative_base\n",
    "from sqlalchemy.orm import sessionmaker, relationship\n",
    "from datetime import datetime\n",
    "\n",
    "Base = declarative_base()\n",
    "\n",
    "class User(Base):\n",
    "    __tablename__ = 'users'\n",
    "    id = Column(Integer, primary_key=True)\n",
    "    name = Column(String(255))  # Specify length for String\n",
    "    email = Column(String(255), unique=True)  # Specify length for String\n",
    "    orders = relationship(\"Order\", backref=\"user\")\n",
    "\n",
    "class Product(Base):\n",
    "    __tablename__ = 'products'\n",
    "    id = Column(Integer, primary_key=True)\n",
    "    name = Column(String(255))  # Specify length for String\n",
    "    price = Column(Float)\n",
    "    description = Column(String(1024))  # Specify length for String\n",
    "\n",
    "class Order(Base):\n",
    "    __tablename__ = 'orders'\n",
    "    id = Column(Integer, primary_key=True)\n",
    "    user_id = Column(Integer, ForeignKey('users.id'))\n",
    "    product_id = Column(Integer, ForeignKey('products.id'))\n",
    "    quantity = Column(Integer)\n",
    "    order_date = Column(DateTime, default=datetime.utcnow)\n",
    "\n",
    "engine = create_engine('sqlite:///:memory:')\n",
    "Base.metadata.create_all(engine)\n",
    "\n",
    "session = sessionmaker(bind=engine)\n",
    "session = Session()"
   ]
  },
  {
   "cell_type": "code",
   "execution_count": 2,
   "id": "47a6ad2b",
   "metadata": {},
   "outputs": [],
   "source": [
    "session.rollback()\n",
    "# Add sample users\n",
    "users = [\n",
    "    User(name=\"Isak\", email=\"Isak@example.com\"),\n",
    "    User(name=\"Karthik\", email=\"Karthik@example.com\"),\n",
    "    User(name=\"Shen\", email=\"Shen@example.com\")\n",
    "]\n",
    "\n",
    "# Add sample products\n",
    "products = [\n",
    "    Product(name=\"Unicorn_poop\", price=9.99, description=\"Rainbow cupcake\"),\n",
    "    Product(name=\"Dragon_egg\", price=8.99, description=\"Chocolate\"),\n",
    "    Product(name=\"Rabbit_leg\", price=7.99, description=\"Cheese cake\")\n",
    "]\n",
    "\n",
    "session.add_all(users + products)\n",
    "session.commit()\n",
    "\n",
    "# Add sample orders\n",
    "orders = [\n",
    "    Order(user_id=1, product_id=1, quantity=1),\n",
    "    Order(user_id=1, product_id=3, quantity=2),\n",
    "    Order(user_id=2, product_id=2, quantity=1)\n",
    "]\n",
    "\n",
    "session.add_all(orders)\n",
    "session.commit()"
   ]
  },
  {
   "cell_type": "code",
   "execution_count": 3,
   "id": "630c5eff",
   "metadata": {},
   "outputs": [
    {
     "name": "stdout",
     "output_type": "stream",
     "text": [
      "User: Isak, Email: Isak@example.com\n",
      "    Order: Unicorn_poop, Quantity: 1, Date: 2023-12-16 01:30:10.638922\n",
      "    Order: Rabbit_leg, Quantity: 2, Date: 2023-12-16 01:30:10.639119\n",
      "User: Karthik, Email: Karthik@example.com\n",
      "    Order: Dragon_egg, Quantity: 1, Date: 2023-12-16 01:30:10.639174\n",
      "User: Shen, Email: Shen@example.com\n"
     ]
    }
   ],
   "source": [
    "for user in session.query(User).all():\n",
    "    print(f\"User: {user.name}, Email: {user.email}\")\n",
    "    for order in user.orders:\n",
    "        product = session.query(Product).get(order.product_id)\n",
    "        print(f\"    Order: {product.name}, Quantity: {order.quantity}, Date: {order.order_date}\")"
   ]
  },
  {
   "cell_type": "code",
   "execution_count": 6,
   "id": "639d0bb9",
   "metadata": {},
   "outputs": [],
   "source": [
    "class UserType(ObjectType):\n",
    "    id = Int()\n",
    "    name = String()\n",
    "    email = String()\n",
    "    orders = List(lambda: OrderType)\n",
    "\n",
    "    def resolve_orders(user, info):\n",
    "        return session.query(Order).filter(Order.user_id == user.id).all()\n",
    "\n",
    "class ProductType(ObjectType):\n",
    "    id = Int()\n",
    "    name = String()\n",
    "    price = Float()\n",
    "    description = String()\n",
    "\n",
    "class OrderType(ObjectType):\n",
    "    id = Int()\n",
    "    user = Field(UserType)\n",
    "    product = Field(ProductType)\n",
    "    quantity = Int()\n",
    "    order_date = DateTime()\n",
    "\n",
    "    def resolve_user(order, info):\n",
    "        return session.query(User).filter(User.id == order.user_id).first()\n",
    "\n",
    "    def resolve_product(order, info):\n",
    "        return session.query(Product).filter(Product.id == order.product_id).first()\n",
    "\n",
    "class Query(ObjectType):\n",
    "    users = List(UserType)\n",
    "    products = List(ProductType)\n",
    "    orders = List(OrderType)\n",
    "\n",
    "    def resolve_users(self, info):\n",
    "        return session.query(User).all()\n",
    "\n",
    "    def resolve_products(self, info):\n",
    "        return session.query(Product).all()\n",
    "\n",
    "    def resolve_orders(self, info):\n",
    "        return session.query(Order).all()\n",
    "\n",
    "schema = graphene.Schema(query=Query)\n"
   ]
  },
  {
   "cell_type": "code",
   "execution_count": 7,
   "id": "9e2955f5",
   "metadata": {},
   "outputs": [
    {
     "name": "stdout",
     "output_type": "stream",
     "text": [
      "{'users': [{'name': 'Isak', 'email': 'Isak@example.com'}, {'name': 'Karthik', 'email': 'Karthik@example.com'}, {'name': 'Shen', 'email': 'Shen@example.com'}]}\n"
     ]
    }
   ],
   "source": [
    "query_string = '''\n",
    "{\n",
    "    users {\n",
    "        name\n",
    "        email\n",
    "    }\n",
    "}\n",
    "'''\n",
    "result = schema.execute(query_string)\n",
    "print(result.data)"
   ]
  },
  {
   "cell_type": "code",
   "execution_count": null,
   "id": "560298e4",
   "metadata": {},
   "outputs": [],
   "source": []
  }
 ],
 "metadata": {
  "kernelspec": {
   "display_name": "Python 3 (ipykernel)",
   "language": "python",
   "name": "python3"
  },
  "language_info": {
   "codemirror_mode": {
    "name": "ipython",
    "version": 3
   },
   "file_extension": ".py",
   "mimetype": "text/x-python",
   "name": "python",
   "nbconvert_exporter": "python",
   "pygments_lexer": "ipython3",
   "version": "3.9.12"
  }
 },
 "nbformat": 4,
 "nbformat_minor": 5
}
